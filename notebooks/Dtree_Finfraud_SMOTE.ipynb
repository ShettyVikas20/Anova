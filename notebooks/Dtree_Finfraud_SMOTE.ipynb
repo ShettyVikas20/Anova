{
 "cells": [
  {
   "cell_type": "markdown",
   "id": "a55f737c",
   "metadata": {},
   "source": [
    "# Financial Fraud Data Analysis Using Decision Trees"
   ]
  },
  {
   "cell_type": "code",
   "execution_count": null,
   "id": "8fd183de",
   "metadata": {},
   "outputs": [],
   "source": [
    "#Importing libraries\n",
    "import numpy as np\n",
    "import pandas as pd\n",
    "import seaborn as sns\n",
    "from matplotlib import pyplot as plt\n",
    "import plotly as px"
   ]
  },
  {
   "cell_type": "code",
   "execution_count": null,
   "id": "a4ed3512",
   "metadata": {},
   "outputs": [],
   "source": [
    "#Reading data\n",
    "data=pd.read_csv(\"datasets/financialFraud.csv\")"
   ]
  },
  {
   "cell_type": "code",
   "execution_count": null,
   "id": "b9e4af65",
   "metadata": {},
   "outputs": [],
   "source": [
    "#Summury on dataset\n",
    "data.describe()"
   ]
  },
  {
   "cell_type": "code",
   "execution_count": null,
   "id": "08343859",
   "metadata": {},
   "outputs": [],
   "source": [
    "data.info()"
   ]
  },
  {
   "cell_type": "code",
   "execution_count": null,
   "id": "328c93ae",
   "metadata": {},
   "outputs": [],
   "source": [
    "#Checking for null values\n",
    "data.isnull().sum()"
   ]
  },
  {
   "cell_type": "code",
   "execution_count": null,
   "id": "b8e51f4e",
   "metadata": {},
   "outputs": [],
   "source": [
    "#distribution of fraud transaction\n",
    "data['isFraud'].value_counts()"
   ]
  },
  {
   "cell_type": "code",
   "execution_count": null,
   "id": "156526d0",
   "metadata": {},
   "outputs": [],
   "source": [
    "sns.countplot(data=data,x='isFraud')\n",
    "plt.title('Distributions of Fraud and Non Fraud transactions')"
   ]
  },
  {
   "cell_type": "code",
   "execution_count": null,
   "id": "1e9b726a",
   "metadata": {},
   "outputs": [],
   "source": [
    "type = data[\"type\"].value_counts()\n",
    "quantity = type.values\n",
    "transactions = type.index"
   ]
  },
  {
   "cell_type": "code",
   "execution_count": null,
   "id": "8212c1b8",
   "metadata": {},
   "outputs": [],
   "source": [
    "import plotly.express as px\n",
    "figure = px.pie(data, \n",
    "             values=quantity, \n",
    "             names=transactions,hole = 0.5, \n",
    "             title=\"Distribution of Transaction Type\")\n",
    "figure.show()"
   ]
  },
  {
   "cell_type": "code",
   "execution_count": null,
   "id": "32ca04e9",
   "metadata": {},
   "outputs": [],
   "source": [
    "figure.write_html(\"pieex1.html\")"
   ]
  },
  {
   "cell_type": "code",
   "execution_count": null,
   "id": "fc8ff74c",
   "metadata": {},
   "outputs": [],
   "source": [
    "#creating a columns having time stemp of 24hr\n",
    "data['hourOfDay']=data['step']%24"
   ]
  },
  {
   "cell_type": "code",
   "execution_count": null,
   "id": "c0d03957",
   "metadata": {},
   "outputs": [],
   "source": [
    "#lets analyse the fraud on different time stamp of the day\n",
    "fraud_df=data[data['isFraud']==1]"
   ]
  },
  {
   "cell_type": "code",
   "execution_count": null,
   "id": "5f32edaf",
   "metadata": {},
   "outputs": [],
   "source": [
    "hourly_fraud_count=fraud_df.groupby('hourOfDay').size()\n",
    "\n",
    "fig = px.line(data, x=hourly_fraud_count.index, y=hourly_fraud_count.values, title='Number of Fraud Transactions by Hour of the day',labels={'x':\"hours\",'y':\"fraud_count\"})\n",
    "fig.show()"
   ]
  },
  {
   "cell_type": "code",
   "execution_count": null,
   "id": "89da3a80",
   "metadata": {},
   "outputs": [],
   "source": [
    "fig.write_html(\"DtreeLinegraph.html\")"
   ]
  },
  {
   "cell_type": "code",
   "execution_count": null,
   "id": "c785f37d",
   "metadata": {},
   "outputs": [],
   "source": [
    "#Heatmap to show corelations\n",
    "hartmap=sns.heatmap(data.corr(), annot=True)"
   ]
  },
  {
   "cell_type": "code",
   "execution_count": null,
   "id": "6dffb1ae",
   "metadata": {},
   "outputs": [],
   "source": [
    "data.dtypes"
   ]
  },
  {
   "cell_type": "code",
   "execution_count": null,
   "id": "a633ad47",
   "metadata": {},
   "outputs": [],
   "source": [
    "nonfraud=data[data.isFraud==0]\n",
    "fraud=data[data.isFraud==1]"
   ]
  },
  {
   "cell_type": "code",
   "execution_count": null,
   "id": "5050faf5",
   "metadata": {},
   "outputs": [],
   "source": [
    "nonfraud_s=nonfraud.sample(n=600000)"
   ]
  },
  {
   "cell_type": "code",
   "execution_count": null,
   "id": "1ad65d4e",
   "metadata": {},
   "outputs": [],
   "source": [
    "data2=pd.concat((nonfraud_s,fraud),axis=0)"
   ]
  },
  {
   "cell_type": "code",
   "execution_count": null,
   "id": "a04cee6f",
   "metadata": {},
   "outputs": [],
   "source": [
    "len(nonfraud_s.index)"
   ]
  },
  {
   "cell_type": "code",
   "execution_count": null,
   "id": "61d930cc",
   "metadata": {},
   "outputs": [],
   "source": [
    "data2.nunique(axis=0)"
   ]
  },
  {
   "cell_type": "code",
   "execution_count": null,
   "id": "26c76a9d",
   "metadata": {},
   "outputs": [],
   "source": [
    "df=data"
   ]
  },
  {
   "cell_type": "code",
   "execution_count": null,
   "id": "62e2e84c",
   "metadata": {},
   "outputs": [],
   "source": [
    "data['isFraud'].value_counts()"
   ]
  },
  {
   "cell_type": "code",
   "execution_count": null,
   "id": "9f061037",
   "metadata": {},
   "outputs": [],
   "source": [
    "df=df.drop(['nameOrig','nameDest'],axis=1)"
   ]
  },
  {
   "cell_type": "code",
   "execution_count": null,
   "id": "490897c7",
   "metadata": {},
   "outputs": [],
   "source": [
    "from sklearn.preprocessing import LabelEncoder"
   ]
  },
  {
   "cell_type": "code",
   "execution_count": null,
   "id": "02a546b8",
   "metadata": {},
   "outputs": [],
   "source": [
    "df1=df.sample(600000)"
   ]
  },
  {
   "cell_type": "code",
   "execution_count": null,
   "id": "f8ebeb9a",
   "metadata": {},
   "outputs": [],
   "source": [
    "target=df1['isFraud']\n",
    "inputs=df1.drop('isFraud',axis=1)"
   ]
  },
  {
   "cell_type": "code",
   "execution_count": null,
   "id": "4a84e59d",
   "metadata": {},
   "outputs": [],
   "source": [
    "target.head()"
   ]
  },
  {
   "cell_type": "code",
   "execution_count": null,
   "id": "22242b56",
   "metadata": {},
   "outputs": [],
   "source": [
    "inputs.head()"
   ]
  },
  {
   "cell_type": "code",
   "execution_count": null,
   "id": "b6a2a561",
   "metadata": {},
   "outputs": [],
   "source": [
    "encode=LabelEncoder();"
   ]
  },
  {
   "cell_type": "code",
   "execution_count": null,
   "id": "7249808c",
   "metadata": {},
   "outputs": [],
   "source": [
    "#Encoding variable 'type' to numerical\n",
    "inputs['type_en']=encode.fit_transform(inputs['type'])"
   ]
  },
  {
   "cell_type": "code",
   "execution_count": null,
   "id": "7c9e7bab",
   "metadata": {},
   "outputs": [],
   "source": [
    "inputs"
   ]
  },
  {
   "cell_type": "code",
   "execution_count": null,
   "id": "81355dfd",
   "metadata": {},
   "outputs": [],
   "source": [
    "inputs=inputs.drop(['type','isFlaggedFraud','step'],axis=1)"
   ]
  },
  {
   "cell_type": "code",
   "execution_count": null,
   "id": "d2aa1374",
   "metadata": {},
   "outputs": [],
   "source": [
    "inputs"
   ]
  },
  {
   "cell_type": "code",
   "execution_count": null,
   "id": "4328a012",
   "metadata": {},
   "outputs": [],
   "source": [
    "#splitting data into train and test\n",
    "from sklearn.model_selection import train_test_split\n",
    "x_train,x_test,y_train,y_test=train_test_split(inputs,target,test_size=0.3)"
   ]
  },
  {
   "cell_type": "code",
   "execution_count": null,
   "id": "ddf5723d",
   "metadata": {},
   "outputs": [],
   "source": [
    "from sklearn import tree"
   ]
  },
  {
   "cell_type": "code",
   "execution_count": null,
   "id": "449df664",
   "metadata": {},
   "outputs": [],
   "source": [
    "model=tree.DecisionTreeClassifier(criterion=\"entropy\", max_depth=3)\n",
    "model.fit(x_train,y_train)"
   ]
  },
  {
   "cell_type": "code",
   "execution_count": null,
   "id": "8f5d426e",
   "metadata": {},
   "outputs": [],
   "source": [
    "xtrain_pred=model.predict(x_train)\n",
    "xtest_pred=model.predict(x_test)"
   ]
  },
  {
   "cell_type": "code",
   "execution_count": null,
   "id": "c1ba9f04",
   "metadata": {},
   "outputs": [],
   "source": [
    " from sklearn.metrics import f1_score\n",
    "f1_score(xtrain_pred,y_train,average=\"macro\")"
   ]
  },
  {
   "cell_type": "code",
   "execution_count": null,
   "id": "59e20a7e",
   "metadata": {},
   "outputs": [],
   "source": [
    "from sklearn.metrics import accuracy_score\n",
    "train_acc=accuracy_score(xtrain_pred,y_train)"
   ]
  },
  {
   "cell_type": "code",
   "execution_count": null,
   "id": "3d367775",
   "metadata": {},
   "outputs": [],
   "source": [
    "train_acc"
   ]
  },
  {
   "cell_type": "code",
   "execution_count": null,
   "id": "c57df05a",
   "metadata": {},
   "outputs": [],
   "source": [
    "#Joblib file \n"
   ]
  },
  {
   "cell_type": "code",
   "execution_count": null,
   "id": "24bb0814",
   "metadata": {},
   "outputs": [],
   "source": []
  }
 ],
 "metadata": {
  "kernelspec": {
   "display_name": "Python 3 (ipykernel)",
   "language": "python",
   "name": "python3"
  },
  "language_info": {
   "codemirror_mode": {
    "name": "ipython",
    "version": 3
   },
   "file_extension": ".py",
   "mimetype": "text/x-python",
   "name": "python",
   "nbconvert_exporter": "python",
   "pygments_lexer": "ipython3",
   "version": "3.9.13"
  }
 },
 "nbformat": 4,
 "nbformat_minor": 5
}
